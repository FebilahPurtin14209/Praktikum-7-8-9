{
  "cells": [
    {
      "cell_type": "markdown",
      "source": [
        "Nama : Febilah Purtin\n",
        "\n",
        "NIM  : A11.2022.14209"
      ],
      "metadata": {
        "id": "4bIvdVN6rV5d"
      }
    },
    {
      "cell_type": "markdown",
      "metadata": {
        "id": "trUWNKEzsnqC"
      },
      "source": [
        "<img src=\"./images/DLI_Header.png\" style=\"width: 400px;\">"
      ]
    },
    {
      "cell_type": "markdown",
      "metadata": {
        "id": "Q69Zz4qwsnqG"
      },
      "source": [
        "# Assessment"
      ]
    },
    {
      "cell_type": "markdown",
      "metadata": {
        "id": "ng_UNX2jsnqH"
      },
      "source": [
        "Congratulations on going through today's course! Hopefully, you've learned some valuable skills along the way and had fun doing it. Now it's time to put those skills to the test. In this assessment, you will train a new model that is able to recognize fresh and rotten fruit. You will need to get the model to a validation accuracy of `92%` in order to pass the assessment, though we challenge you to do even better if you can. You will have the use the skills that you learned in the previous exercises. Specifically, we suggest using some combination of transfer learning, data augmentation, and fine tuning. Once you have trained the model to be at least 92% accurate on the validation dataset, save your model, and then assess its accuracy. Let's get started!"
      ]
    },
    {
      "cell_type": "markdown",
      "metadata": {
        "id": "rzRIj9VnsnqJ"
      },
      "source": [
        "## The Dataset"
      ]
    },
    {
      "cell_type": "markdown",
      "metadata": {
        "id": "N8qxZdNcsnqJ"
      },
      "source": [
        "In this exercise, you will train a model to recognize fresh and rotten fruits. The dataset comes from [Kaggle](https://www.kaggle.com/sriramr/fruits-fresh-and-rotten-for-classification), a great place to go if you're interested in starting a project after this class. The dataset structure is in the `data/fruits` folder. There are 6 categories of fruits: fresh apples, fresh oranges, fresh bananas, rotten apples, rotten oranges, and rotten bananas. This will mean that your model will require an output layer of 6 neurons to do the categorization successfully. You'll also need to compile the model with `categorical_crossentropy`, as we have more than two categories."
      ]
    },
    {
      "cell_type": "markdown",
      "metadata": {
        "id": "5BlHPB3dsnqK"
      },
      "source": [
        "<img src=\"./images/fruits.png\" style=\"width: 600px;\">"
      ]
    },
    {
      "cell_type": "markdown",
      "metadata": {
        "id": "5PIIaRjEsnqK"
      },
      "source": [
        "## Load ImageNet Base Model"
      ]
    },
    {
      "cell_type": "markdown",
      "metadata": {
        "id": "5uGqEitJsnqL"
      },
      "source": [
        "We encourage you to start with a model pretrained on ImageNet. Load the model with the correct weights, set an input shape, and choose to remove the last layers of the model. Remember that images have three dimensions: a height, and width, and a number of channels. Because these pictures are in color, there will be three channels for red, green, and blue. We've filled in the input shape for you. This cannot be changed or the assessment will fail. If you need a reference for setting up the pretrained model, please take a look at [notebook 05b](05b_presidential_doggy_door.ipynb) where we implemented transfer learning."
      ]
    },
    {
      "cell_type": "code",
      "execution_count": 1,
      "metadata": {
        "colab": {
          "base_uri": "https://localhost:8080/"
        },
        "id": "5Z9OEdFEsnqM",
        "outputId": "8e787103-c8df-4e87-d7f6-fa2dd49483cb"
      },
      "outputs": [
        {
          "output_type": "stream",
          "name": "stdout",
          "text": [
            "Downloading data from https://storage.googleapis.com/tensorflow/keras-applications/vgg16/vgg16_weights_tf_dim_ordering_tf_kernels_notop.h5\n",
            "58889256/58889256 [==============================] - 1s 0us/step\n"
          ]
        }
      ],
      "source": [
        "from tensorflow import keras\n",
        "\n",
        "base_model = keras.applications.VGG16(\n",
        "    weights='imagenet',\n",
        "    input_shape=(224, 224, 3),\n",
        "    include_top=False)"
      ]
    },
    {
      "cell_type": "markdown",
      "metadata": {
        "id": "0Yydre3MsnqO"
      },
      "source": [
        "## Freeze Base Model"
      ]
    },
    {
      "cell_type": "markdown",
      "metadata": {
        "id": "0-jDiTBOsnqP"
      },
      "source": [
        "Next, we suggest freezing the base model, as done in [notebook 05b](05b_presidential_doggy_door.ipynb). This is done so that all the learning from the ImageNet dataset does not get destroyed in the initial training."
      ]
    },
    {
      "cell_type": "code",
      "execution_count": 2,
      "metadata": {
        "id": "qoqLBiT-snqP"
      },
      "outputs": [],
      "source": [
        "# Freeze base model\n",
        "base_model.trainable = False"
      ]
    },
    {
      "cell_type": "markdown",
      "metadata": {
        "id": "UjdrvpLasnqQ"
      },
      "source": [
        "## Add Layers to Model"
      ]
    },
    {
      "cell_type": "markdown",
      "metadata": {
        "id": "d4sGH_7TsnqQ"
      },
      "source": [
        "Now it's time to add layers to the pretrained model. [Notebook 05b](05b_presidential_doggy_door.ipynb) can be used as a guide. Pay close attention to the last dense layer and make sure it has the correct number of neurons to classify the different types of fruit."
      ]
    },
    {
      "cell_type": "code",
      "execution_count": 3,
      "metadata": {
        "id": "vIXfLv5nsnqR"
      },
      "outputs": [],
      "source": [
        "# Create inputs with correct shape\n",
        "inputs = keras.Input(shape=(224,224,3))\n",
        "\n",
        "x = base_model(inputs, training=False)\n",
        "\n",
        "# Add pooling layer or flatten layer\n",
        "x = keras.layers.GlobalAveragePooling2D()(x)\n",
        "\n",
        "# Add final dense layer\n",
        "outputs = keras.layers.Dense(6, activation = 'softmax')(x)\n",
        "\n",
        "# Combine inputs and outputs to create model\n",
        "model = keras.Model(inputs,outputs)"
      ]
    },
    {
      "cell_type": "code",
      "execution_count": 4,
      "metadata": {
        "colab": {
          "base_uri": "https://localhost:8080/"
        },
        "id": "EYSWPy6SsnqS",
        "outputId": "80251261-e723-44d7-f42e-256a1a6c1c62"
      },
      "outputs": [
        {
          "output_type": "stream",
          "name": "stdout",
          "text": [
            "Model: \"model\"\n",
            "_________________________________________________________________\n",
            " Layer (type)                Output Shape              Param #   \n",
            "=================================================================\n",
            " input_2 (InputLayer)        [(None, 224, 224, 3)]     0         \n",
            "                                                                 \n",
            " vgg16 (Functional)          (None, 7, 7, 512)         14714688  \n",
            "                                                                 \n",
            " global_average_pooling2d (  (None, 512)               0         \n",
            " GlobalAveragePooling2D)                                         \n",
            "                                                                 \n",
            " dense (Dense)               (None, 6)                 3078      \n",
            "                                                                 \n",
            "=================================================================\n",
            "Total params: 14717766 (56.14 MB)\n",
            "Trainable params: 3078 (12.02 KB)\n",
            "Non-trainable params: 14714688 (56.13 MB)\n",
            "_________________________________________________________________\n"
          ]
        }
      ],
      "source": [
        "model.summary()"
      ]
    },
    {
      "cell_type": "markdown",
      "metadata": {
        "id": "_ALE5VjxsnqU"
      },
      "source": [
        "## Compile Model"
      ]
    },
    {
      "cell_type": "markdown",
      "metadata": {
        "id": "ipEpT6_xsnqU"
      },
      "source": [
        "Now it's time to compile the model with loss and metrics options. Remember that we're training on a number of different categories, rather than a binary classification problem."
      ]
    },
    {
      "cell_type": "code",
      "execution_count": 5,
      "metadata": {
        "id": "dj0E36vxsnqV"
      },
      "outputs": [],
      "source": [
        "model.compile(loss = 'categorical_crossentropy' , metrics = ['accuracy'])"
      ]
    },
    {
      "cell_type": "markdown",
      "metadata": {
        "id": "EqntklbqsnqV"
      },
      "source": [
        "## Augment the Data"
      ]
    },
    {
      "cell_type": "markdown",
      "metadata": {
        "id": "ZbAn9SaRsnqW"
      },
      "source": [
        "If you'd like, try to augment the data to improve the dataset. Feel free to look at [notebook 04a](04a_asl_augmentation.ipynb) and [notebook 05b](05b_presidential_doggy_door.ipynb) for augmentation examples. There is also documentation for the [Keras ImageDataGenerator class](https://keras.io/api/preprocessing/image/#imagedatagenerator-class). This step is optional, but it may be helpful to get to 92% accuracy."
      ]
    },
    {
      "cell_type": "code",
      "execution_count": 6,
      "metadata": {
        "id": "LjWJLXIpsnqW"
      },
      "outputs": [],
      "source": [
        "from tensorflow.keras.preprocessing.image import ImageDataGenerator\n",
        "\n",
        "datagen = ImageDataGenerator(rotation_range=10,width_shift_range=0.1,zoom_range=0.1,height_shift_range=0.1,vertical_flip=False,horizontal_flip=True)"
      ]
    },
    {
      "cell_type": "markdown",
      "metadata": {
        "id": "-EBY0-amsnqX"
      },
      "source": [
        "## Load Dataset"
      ]
    },
    {
      "cell_type": "markdown",
      "metadata": {
        "id": "WJnUyuHrsnqX"
      },
      "source": [
        "Now it's time to load the train and validation datasets. Pick the right folders, as well as the right `target_size` of the images (it needs to match the height and width input of the model you've created). If you'd like a reference, you can check out [notebook 05b](05b_presidential_doggy_door.ipynb)."
      ]
    },
    {
      "cell_type": "code",
      "execution_count": null,
      "metadata": {
        "id": "WarGYxMisnqY",
        "outputId": "f7150131-4ab0-4b06-eb1b-2ba7d894e125"
      },
      "outputs": [
        {
          "name": "stdout",
          "output_type": "stream",
          "text": [
            "Found 1182 images belonging to 6 classes.\n",
            "Found 329 images belonging to 6 classes.\n"
          ]
        }
      ],
      "source": [
        "# load and iterate training dataset\n",
        "train_it = datagen.flow_from_directory('data/fruits/train',\n",
        "                                       target_size=(224,224),\n",
        "                                       color_mode='rgb',\n",
        "                                       class_mode=\"categorical\")\n",
        "# load and iterate validation dataset\n",
        "valid_it = datagen.flow_from_directory('data/fruits/valid',\n",
        "                                      target_size=(224,224),\n",
        "                                      color_mode='rgb',\n",
        "                                      class_mode=\"categorical\")"
      ]
    },
    {
      "cell_type": "markdown",
      "metadata": {
        "id": "py4cTCMKsnqY"
      },
      "source": [
        "## Train the Model"
      ]
    },
    {
      "cell_type": "markdown",
      "metadata": {
        "id": "16QBxTo0snqZ"
      },
      "source": [
        "Time to train the model! Pass the `train` and `valid` iterators into the `fit` function, as well as setting your desired number of epochs."
      ]
    },
    {
      "cell_type": "code",
      "execution_count": null,
      "metadata": {
        "id": "3Cq6Sc9XsnqZ",
        "outputId": "1ff131a4-a759-4364-dd87-5f9e99106f1b"
      },
      "outputs": [
        {
          "name": "stdout",
          "output_type": "stream",
          "text": [
            "Epoch 1/20\n",
            "37/36 [==============================] - 28s 744ms/step - loss: 3.1211 - accuracy: 0.4027 - val_loss: 1.3383 - val_accuracy: 0.6292\n",
            "Epoch 2/20\n",
            "37/36 [==============================] - 19s 512ms/step - loss: 0.8975 - accuracy: 0.7487 - val_loss: 0.7246 - val_accuracy: 0.7933\n",
            "Epoch 3/20\n",
            "37/36 [==============================] - 19s 507ms/step - loss: 0.4340 - accuracy: 0.8629 - val_loss: 0.3902 - val_accuracy: 0.8815\n",
            "Epoch 4/20\n",
            "37/36 [==============================] - 19s 511ms/step - loss: 0.3068 - accuracy: 0.9103 - val_loss: 0.2657 - val_accuracy: 0.9119\n",
            "Epoch 5/20\n",
            "37/36 [==============================] - 19s 507ms/step - loss: 0.2233 - accuracy: 0.9222 - val_loss: 0.3717 - val_accuracy: 0.8936\n",
            "Epoch 6/20\n",
            "37/36 [==============================] - 19s 506ms/step - loss: 0.1647 - accuracy: 0.9459 - val_loss: 0.2025 - val_accuracy: 0.9422\n",
            "Epoch 7/20\n",
            "37/36 [==============================] - 19s 509ms/step - loss: 0.1169 - accuracy: 0.9535 - val_loss: 0.2948 - val_accuracy: 0.8997\n",
            "Epoch 8/20\n",
            "37/36 [==============================] - 19s 506ms/step - loss: 0.1122 - accuracy: 0.9611 - val_loss: 0.3727 - val_accuracy: 0.9088\n",
            "Epoch 9/20\n",
            "37/36 [==============================] - 19s 507ms/step - loss: 0.1011 - accuracy: 0.9619 - val_loss: 0.1637 - val_accuracy: 0.9422\n",
            "Epoch 10/20\n",
            "37/36 [==============================] - 19s 509ms/step - loss: 0.0846 - accuracy: 0.9695 - val_loss: 0.1716 - val_accuracy: 0.9362\n",
            "Epoch 11/20\n",
            "37/36 [==============================] - 18s 499ms/step - loss: 0.0742 - accuracy: 0.9738 - val_loss: 0.2018 - val_accuracy: 0.9483\n",
            "Epoch 12/20\n",
            "37/36 [==============================] - 19s 509ms/step - loss: 0.0608 - accuracy: 0.9814 - val_loss: 0.1984 - val_accuracy: 0.9544\n",
            "Epoch 13/20\n",
            "37/36 [==============================] - 19s 506ms/step - loss: 0.0508 - accuracy: 0.9831 - val_loss: 0.1645 - val_accuracy: 0.9514\n",
            "Epoch 14/20\n",
            "37/36 [==============================] - 19s 510ms/step - loss: 0.0473 - accuracy: 0.9856 - val_loss: 0.1207 - val_accuracy: 0.9666\n",
            "Epoch 15/20\n",
            "37/36 [==============================] - 19s 508ms/step - loss: 0.0409 - accuracy: 0.9805 - val_loss: 0.1889 - val_accuracy: 0.9514\n",
            "Epoch 16/20\n",
            "37/36 [==============================] - 19s 509ms/step - loss: 0.0534 - accuracy: 0.9797 - val_loss: 0.2306 - val_accuracy: 0.9453\n",
            "Epoch 17/20\n",
            "37/36 [==============================] - 19s 506ms/step - loss: 0.0368 - accuracy: 0.9856 - val_loss: 0.0902 - val_accuracy: 0.9605\n",
            "Epoch 18/20\n",
            "37/36 [==============================] - 19s 506ms/step - loss: 0.0419 - accuracy: 0.9856 - val_loss: 0.1378 - val_accuracy: 0.9696\n",
            "Epoch 19/20\n",
            "37/36 [==============================] - 19s 510ms/step - loss: 0.0372 - accuracy: 0.9865 - val_loss: 0.2627 - val_accuracy: 0.9422\n",
            "Epoch 20/20\n",
            "37/36 [==============================] - 19s 507ms/step - loss: 0.0245 - accuracy: 0.9915 - val_loss: 0.1711 - val_accuracy: 0.9544\n"
          ]
        },
        {
          "data": {
            "text/plain": [
              "<tensorflow.python.keras.callbacks.History at 0x7f68c06d2dd8>"
            ]
          },
          "execution_count": 8,
          "metadata": {},
          "output_type": "execute_result"
        }
      ],
      "source": [
        "model.fit(train_it,\n",
        "          validation_data=valid_it,\n",
        "          steps_per_epoch=train_it.samples/train_it.batch_size,\n",
        "          validation_steps=valid_it.samples/valid_it.batch_size,\n",
        "          epochs=20)"
      ]
    },
    {
      "cell_type": "markdown",
      "metadata": {
        "id": "4v02cbXrsnqa"
      },
      "source": [
        "## Unfreeze Model for Fine Tuning"
      ]
    },
    {
      "cell_type": "markdown",
      "metadata": {
        "id": "0fmYiEoJsnqb"
      },
      "source": [
        "If you have reached 92% validation accuracy already, this next step is optional. If not, we suggest fine tuning the model with a very low learning rate."
      ]
    },
    {
      "cell_type": "code",
      "execution_count": null,
      "metadata": {
        "id": "ovepxpAXsnqb"
      },
      "outputs": [],
      "source": [
        "# Unfreeze the base model\n",
        "base_model.trainable = FIXME\n",
        "\n",
        "# Compile the model with a low learning rate\n",
        "model.compile(optimizer=keras.optimizers.RMSprop(learning_rate = FIXME),\n",
        "              loss = FIXME , metrics = FIXME)"
      ]
    },
    {
      "cell_type": "code",
      "execution_count": null,
      "metadata": {
        "id": "O60piMLCsnqc"
      },
      "outputs": [],
      "source": [
        "model.fit(FIXME,\n",
        "          validation_data=FIXME,\n",
        "          steps_per_epoch=train_it.samples/train_it.batch_size,\n",
        "          validation_steps=valid_it.samples/valid_it.batch_size,\n",
        "          epochs=FIXME)"
      ]
    },
    {
      "cell_type": "markdown",
      "metadata": {
        "id": "eKACoPwNsnqc"
      },
      "source": [
        "## Evaluate the Model"
      ]
    },
    {
      "cell_type": "markdown",
      "metadata": {
        "id": "66URebyKsnqd"
      },
      "source": [
        "Hopefully, you now have a model that has a validation accuracy of 92% or higher. If not, you may want to go back and either run more epochs of training, or adjust your data augmentation.\n",
        "\n",
        "Once you are satisfied with the validation accuracy, evaluate the model by executing the following cell. The evaluate function will return a tuple, where the first value is your loss, and the second value is your accuracy. To pass, the model will need have an accuracy value of `92% or higher`."
      ]
    },
    {
      "cell_type": "code",
      "execution_count": null,
      "metadata": {
        "id": "9BAIaoYOsnqd",
        "outputId": "02c60f53-91a2-4b23-8fcf-5cdd07c51990"
      },
      "outputs": [
        {
          "name": "stdout",
          "output_type": "stream",
          "text": [
            "11/10 [================================] - 4s 332ms/step - loss: 0.1570 - accuracy: 0.9574\n"
          ]
        },
        {
          "data": {
            "text/plain": [
              "[0.157026469707489, 0.957446813583374]"
            ]
          },
          "execution_count": 9,
          "metadata": {},
          "output_type": "execute_result"
        }
      ],
      "source": [
        "model.evaluate(valid_it, steps=valid_it.samples/valid_it.batch_size)"
      ]
    },
    {
      "cell_type": "markdown",
      "metadata": {
        "id": "CNHzBI3dsnqe"
      },
      "source": [
        "## Run the Assessment"
      ]
    },
    {
      "cell_type": "markdown",
      "metadata": {
        "id": "pN0eMuMcsnqe"
      },
      "source": [
        "To assess your model run the following two cells.\n",
        "\n",
        "**NOTE:** `run_assessment` assumes your model is named `model` and your validation data iterator is called `valid_it`. If for any reason you have modified these variable names, please update the names of the arguments passed to `run_assessment`."
      ]
    },
    {
      "cell_type": "code",
      "execution_count": null,
      "metadata": {
        "id": "kSnI6ZDnsnqf"
      },
      "outputs": [],
      "source": [
        "from run_assessment import run_assessment"
      ]
    },
    {
      "cell_type": "code",
      "execution_count": null,
      "metadata": {
        "id": "vjVqbKWNsnqf",
        "outputId": "98549e81-c0a8-459a-ae47-7cbfbbbbb0b3"
      },
      "outputs": [
        {
          "name": "stdout",
          "output_type": "stream",
          "text": [
            "Evaluating model 5 times to obtain average accuracy...\n",
            "\n",
            "11/10 [================================] - 4s 362ms/step - loss: 0.1314 - accuracy: 0.9605\n",
            "11/10 [================================] - 4s 325ms/step - loss: 0.1613 - accuracy: 0.9605\n",
            "11/10 [================================] - 4s 344ms/step - loss: 0.1483 - accuracy: 0.9635\n",
            "11/10 [================================] - 4s 332ms/step - loss: 0.1207 - accuracy: 0.9666\n",
            "11/10 [================================] - 4s 335ms/step - loss: 0.1624 - accuracy: 0.9574\n",
            "\n",
            "Accuracy required to pass the assessment is 0.92 or greater.\n",
            "Your average accuracy is 0.9617.\n",
            "\n",
            "Congratulations! You passed the assessment!\n",
            "See instructions below to generate a certificate.\n"
          ]
        }
      ],
      "source": [
        "run_assessment(model, valid_it)"
      ]
    },
    {
      "cell_type": "markdown",
      "metadata": {
        "id": "_i7d-Cijsnqh"
      },
      "source": [
        "## Generate a Certificate"
      ]
    },
    {
      "cell_type": "markdown",
      "metadata": {
        "id": "UnqKq-LRsnqh"
      },
      "source": [
        "If you passed the assessment, please return to the course page (shown below) and click the \"ASSESS TASK\" button, which will generate your certificate for the course."
      ]
    },
    {
      "cell_type": "markdown",
      "metadata": {
        "id": "dks23LN6snqi"
      },
      "source": [
        "<img src=\"./images/assess_task.png\" style=\"width: 800px;\">"
      ]
    }
  ],
  "metadata": {
    "kernelspec": {
      "display_name": "Python 3",
      "language": "python",
      "name": "python3"
    },
    "language_info": {
      "codemirror_mode": {
        "name": "ipython",
        "version": 3
      },
      "file_extension": ".py",
      "mimetype": "text/x-python",
      "name": "python",
      "nbconvert_exporter": "python",
      "pygments_lexer": "ipython3",
      "version": "3.6.9"
    },
    "colab": {
      "provenance": []
    }
  },
  "nbformat": 4,
  "nbformat_minor": 0
}